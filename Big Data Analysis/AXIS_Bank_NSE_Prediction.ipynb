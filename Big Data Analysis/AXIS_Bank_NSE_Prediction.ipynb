{
 "cells": [
  {
   "cell_type": "markdown",
   "metadata": {},
   "source": [
    "# Mini Project - Stock Price Prediction"
   ]
  },
  {
   "cell_type": "code",
   "execution_count": 46,
   "metadata": {
    "colab": {},
    "colab_type": "code",
    "id": "2LAivAED2hhJ"
   },
   "outputs": [],
   "source": [
    "import pandas as pd\n",
    "import numpy as np\n",
    "import warnings\n",
    "\n",
    "from sklearn.model_selection import train_test_split\n",
    "from sklearn.linear_model import LinearRegression, SGDRegressor\n",
    "from sklearn.metrics import mean_squared_error, mean_absolute_error\n",
    "from sklearn.neighbors import KNeighborsRegressor\n",
    "from sklearn.tree import DecisionTreeRegressor\n",
    "from sklearn.svm import LinearSVR \n",
    "from sklearn.pipeline import make_pipeline\n",
    "from sklearn.preprocessing import StandardScaler\n",
    "\n",
    "import matplotlib.pyplot as plt\n",
    "%matplotlib inline\n",
    "\n",
    "warnings.filterwarnings(\"ignore\")"
   ]
  },
  {
   "cell_type": "markdown",
   "metadata": {},
   "source": [
    "### Reading CSV File"
   ]
  },
  {
   "cell_type": "code",
   "execution_count": 47,
   "metadata": {
    "colab": {
     "base_uri": "https://localhost:8080/",
     "height": 204
    },
    "colab_type": "code",
    "id": "yLVe8AgL2hhU",
    "outputId": "ba5d1a26-b2d7-4429-fe62-f03082e005b9"
   },
   "outputs": [
    {
     "data": {
      "text/html": [
       "<div>\n",
       "<style scoped>\n",
       "    .dataframe tbody tr th:only-of-type {\n",
       "        vertical-align: middle;\n",
       "    }\n",
       "\n",
       "    .dataframe tbody tr th {\n",
       "        vertical-align: top;\n",
       "    }\n",
       "\n",
       "    .dataframe thead th {\n",
       "        text-align: right;\n",
       "    }\n",
       "</style>\n",
       "<table border=\"1\" class=\"dataframe\">\n",
       "  <thead>\n",
       "    <tr style=\"text-align: right;\">\n",
       "      <th></th>\n",
       "      <th>timestamp</th>\n",
       "      <th>open</th>\n",
       "      <th>high</th>\n",
       "      <th>low</th>\n",
       "      <th>close</th>\n",
       "      <th>volume</th>\n",
       "    </tr>\n",
       "  </thead>\n",
       "  <tbody>\n",
       "    <tr>\n",
       "      <th>0</th>\n",
       "      <td>2017-01-02 09:15:00+05:30</td>\n",
       "      <td>451.40</td>\n",
       "      <td>452.00</td>\n",
       "      <td>450.60</td>\n",
       "      <td>451.20</td>\n",
       "      <td>29198.0</td>\n",
       "    </tr>\n",
       "    <tr>\n",
       "      <th>1</th>\n",
       "      <td>2017-01-02 09:16:00+05:30</td>\n",
       "      <td>451.15</td>\n",
       "      <td>451.15</td>\n",
       "      <td>450.50</td>\n",
       "      <td>450.80</td>\n",
       "      <td>12539.0</td>\n",
       "    </tr>\n",
       "    <tr>\n",
       "      <th>2</th>\n",
       "      <td>2017-01-02 09:17:00+05:30</td>\n",
       "      <td>450.50</td>\n",
       "      <td>450.80</td>\n",
       "      <td>449.30</td>\n",
       "      <td>449.30</td>\n",
       "      <td>26833.0</td>\n",
       "    </tr>\n",
       "    <tr>\n",
       "      <th>3</th>\n",
       "      <td>2017-01-02 09:18:00+05:30</td>\n",
       "      <td>449.30</td>\n",
       "      <td>450.10</td>\n",
       "      <td>448.95</td>\n",
       "      <td>449.75</td>\n",
       "      <td>12067.0</td>\n",
       "    </tr>\n",
       "    <tr>\n",
       "      <th>4</th>\n",
       "      <td>2017-01-02 09:19:00+05:30</td>\n",
       "      <td>449.75</td>\n",
       "      <td>450.30</td>\n",
       "      <td>449.25</td>\n",
       "      <td>449.80</td>\n",
       "      <td>15675.0</td>\n",
       "    </tr>\n",
       "  </tbody>\n",
       "</table>\n",
       "</div>"
      ],
      "text/plain": [
       "                   timestamp    open    high     low   close   volume\n",
       "0  2017-01-02 09:15:00+05:30  451.40  452.00  450.60  451.20  29198.0\n",
       "1  2017-01-02 09:16:00+05:30  451.15  451.15  450.50  450.80  12539.0\n",
       "2  2017-01-02 09:17:00+05:30  450.50  450.80  449.30  449.30  26833.0\n",
       "3  2017-01-02 09:18:00+05:30  449.30  450.10  448.95  449.75  12067.0\n",
       "4  2017-01-02 09:19:00+05:30  449.75  450.30  449.25  449.80  15675.0"
      ]
     },
     "execution_count": 47,
     "metadata": {},
     "output_type": "execute_result"
    }
   ],
   "source": [
    "df = pd.read_csv('AXISBANK__EQ__NSE__NSE__MINUTE.csv')\n",
    "df.head()"
   ]
  },
  {
   "cell_type": "code",
   "execution_count": 48,
   "metadata": {
    "colab": {
     "base_uri": "https://localhost:8080/",
     "height": 34
    },
    "colab_type": "code",
    "id": "_dZPk9Xo2hhe",
    "outputId": "6a5199f6-f54c-4028-f688-48e501b55b53"
   },
   "outputs": [
    {
     "data": {
      "text/plain": [
       "(297735, 6)"
      ]
     },
     "execution_count": 48,
     "metadata": {},
     "output_type": "execute_result"
    }
   ],
   "source": [
    "df.shape"
   ]
  },
  {
   "cell_type": "markdown",
   "metadata": {},
   "source": [
    "##### Setting Timestamp as an Index"
   ]
  },
  {
   "cell_type": "code",
   "execution_count": 49,
   "metadata": {
    "colab": {},
    "colab_type": "code",
    "id": "jQSKMXJB2hhm"
   },
   "outputs": [],
   "source": [
    "newdf = df.set_index('timestamp')"
   ]
  },
  {
   "cell_type": "code",
   "execution_count": 50,
   "metadata": {
    "colab": {
     "base_uri": "https://localhost:8080/",
     "height": 235
    },
    "colab_type": "code",
    "id": "5anBXK1t2hhu",
    "outputId": "e2d6d901-fadc-4070-9a24-90b6b528c173"
   },
   "outputs": [
    {
     "data": {
      "text/html": [
       "<div>\n",
       "<style scoped>\n",
       "    .dataframe tbody tr th:only-of-type {\n",
       "        vertical-align: middle;\n",
       "    }\n",
       "\n",
       "    .dataframe tbody tr th {\n",
       "        vertical-align: top;\n",
       "    }\n",
       "\n",
       "    .dataframe thead th {\n",
       "        text-align: right;\n",
       "    }\n",
       "</style>\n",
       "<table border=\"1\" class=\"dataframe\">\n",
       "  <thead>\n",
       "    <tr style=\"text-align: right;\">\n",
       "      <th></th>\n",
       "      <th>open</th>\n",
       "      <th>high</th>\n",
       "      <th>low</th>\n",
       "      <th>close</th>\n",
       "      <th>volume</th>\n",
       "    </tr>\n",
       "    <tr>\n",
       "      <th>timestamp</th>\n",
       "      <th></th>\n",
       "      <th></th>\n",
       "      <th></th>\n",
       "      <th></th>\n",
       "      <th></th>\n",
       "    </tr>\n",
       "  </thead>\n",
       "  <tbody>\n",
       "    <tr>\n",
       "      <th>2017-01-02 09:15:00+05:30</th>\n",
       "      <td>451.40</td>\n",
       "      <td>452.00</td>\n",
       "      <td>450.60</td>\n",
       "      <td>451.20</td>\n",
       "      <td>29198.0</td>\n",
       "    </tr>\n",
       "    <tr>\n",
       "      <th>2017-01-02 09:16:00+05:30</th>\n",
       "      <td>451.15</td>\n",
       "      <td>451.15</td>\n",
       "      <td>450.50</td>\n",
       "      <td>450.80</td>\n",
       "      <td>12539.0</td>\n",
       "    </tr>\n",
       "    <tr>\n",
       "      <th>2017-01-02 09:17:00+05:30</th>\n",
       "      <td>450.50</td>\n",
       "      <td>450.80</td>\n",
       "      <td>449.30</td>\n",
       "      <td>449.30</td>\n",
       "      <td>26833.0</td>\n",
       "    </tr>\n",
       "    <tr>\n",
       "      <th>2017-01-02 09:18:00+05:30</th>\n",
       "      <td>449.30</td>\n",
       "      <td>450.10</td>\n",
       "      <td>448.95</td>\n",
       "      <td>449.75</td>\n",
       "      <td>12067.0</td>\n",
       "    </tr>\n",
       "    <tr>\n",
       "      <th>2017-01-02 09:19:00+05:30</th>\n",
       "      <td>449.75</td>\n",
       "      <td>450.30</td>\n",
       "      <td>449.25</td>\n",
       "      <td>449.80</td>\n",
       "      <td>15675.0</td>\n",
       "    </tr>\n",
       "  </tbody>\n",
       "</table>\n",
       "</div>"
      ],
      "text/plain": [
       "                             open    high     low   close   volume\n",
       "timestamp                                                         \n",
       "2017-01-02 09:15:00+05:30  451.40  452.00  450.60  451.20  29198.0\n",
       "2017-01-02 09:16:00+05:30  451.15  451.15  450.50  450.80  12539.0\n",
       "2017-01-02 09:17:00+05:30  450.50  450.80  449.30  449.30  26833.0\n",
       "2017-01-02 09:18:00+05:30  449.30  450.10  448.95  449.75  12067.0\n",
       "2017-01-02 09:19:00+05:30  449.75  450.30  449.25  449.80  15675.0"
      ]
     },
     "execution_count": 50,
     "metadata": {},
     "output_type": "execute_result"
    }
   ],
   "source": [
    "newdf.head()"
   ]
  },
  {
   "cell_type": "markdown",
   "metadata": {},
   "source": [
    "##### Converting to Datetime DataType"
   ]
  },
  {
   "cell_type": "code",
   "execution_count": 51,
   "metadata": {
    "colab": {},
    "colab_type": "code",
    "id": "c3rWykV12hhz"
   },
   "outputs": [],
   "source": [
    "newdf.index = pd.to_datetime(newdf.index)"
   ]
  },
  {
   "cell_type": "code",
   "execution_count": 52,
   "metadata": {
    "colab": {
     "base_uri": "https://localhost:8080/",
     "height": 483
    },
    "colab_type": "code",
    "id": "Ui6M1zdK2hh4",
    "outputId": "3c1c762c-3174-4076-9496-c899fac012c1"
   },
   "outputs": [
    {
     "data": {
      "image/png": "[encoded data removed]",
      "text/plain": [
       "<Figure size 720x288 with 1 Axes>"
      ]
     },
     "metadata": {
      "needs_background": "light"
     },
     "output_type": "display_data"
    }
   ],
   "source": [
    "plt.figure(figsize=(10, 4))\n",
    "plt.plot(newdf['close']);"
   ]
  },
  {
   "cell_type": "code",
   "execution_count": 53,
   "metadata": {
    "colab": {
     "base_uri": "https://localhost:8080/",
     "height": 235
    },
    "colab_type": "code",
    "id": "7IdkqlL52hh_",
    "outputId": "be849439-ccf4-4790-ae48-d9d28111daf5"
   },
   "outputs": [
    {
     "data": {
      "text/html": [
       "<div>\n",
       "<style scoped>\n",
       "    .dataframe tbody tr th:only-of-type {\n",
       "        vertical-align: middle;\n",
       "    }\n",
       "\n",
       "    .dataframe tbody tr th {\n",
       "        vertical-align: top;\n",
       "    }\n",
       "\n",
       "    .dataframe thead th {\n",
       "        text-align: right;\n",
       "    }\n",
       "</style>\n",
       "<table border=\"1\" class=\"dataframe\">\n",
       "  <thead>\n",
       "    <tr style=\"text-align: right;\">\n",
       "      <th></th>\n",
       "      <th>close</th>\n",
       "    </tr>\n",
       "    <tr>\n",
       "      <th>timestamp</th>\n",
       "      <th></th>\n",
       "    </tr>\n",
       "  </thead>\n",
       "  <tbody>\n",
       "    <tr>\n",
       "      <th>2017-01-02 09:15:00+05:30</th>\n",
       "      <td>451.20</td>\n",
       "    </tr>\n",
       "    <tr>\n",
       "      <th>2017-01-02 09:16:00+05:30</th>\n",
       "      <td>450.80</td>\n",
       "    </tr>\n",
       "    <tr>\n",
       "      <th>2017-01-02 09:17:00+05:30</th>\n",
       "      <td>449.30</td>\n",
       "    </tr>\n",
       "    <tr>\n",
       "      <th>2017-01-02 09:18:00+05:30</th>\n",
       "      <td>449.75</td>\n",
       "    </tr>\n",
       "    <tr>\n",
       "      <th>2017-01-02 09:19:00+05:30</th>\n",
       "      <td>449.80</td>\n",
       "    </tr>\n",
       "  </tbody>\n",
       "</table>\n",
       "</div>"
      ],
      "text/plain": [
       "                            close\n",
       "timestamp                        \n",
       "2017-01-02 09:15:00+05:30  451.20\n",
       "2017-01-02 09:16:00+05:30  450.80\n",
       "2017-01-02 09:17:00+05:30  449.30\n",
       "2017-01-02 09:18:00+05:30  449.75\n",
       "2017-01-02 09:19:00+05:30  449.80"
      ]
     },
     "execution_count": 53,
     "metadata": {},
     "output_type": "execute_result"
    }
   ],
   "source": [
    "data = newdf[['close']]\n",
    "data.head()"
   ]
  },
  {
   "cell_type": "code",
   "execution_count": 54,
   "metadata": {
    "colab": {
     "base_uri": "https://localhost:8080/",
     "height": 266
    },
    "colab_type": "code",
    "id": "cVEoG54o2hiE",
    "outputId": "29ee6498-ece8-48e7-b075-fa9f329d8aac"
   },
   "outputs": [
    {
     "data": {
      "text/html": [
       "<div>\n",
       "<style scoped>\n",
       "    .dataframe tbody tr th:only-of-type {\n",
       "        vertical-align: middle;\n",
       "    }\n",
       "\n",
       "    .dataframe tbody tr th {\n",
       "        vertical-align: top;\n",
       "    }\n",
       "\n",
       "    .dataframe thead th {\n",
       "        text-align: right;\n",
       "    }\n",
       "</style>\n",
       "<table border=\"1\" class=\"dataframe\">\n",
       "  <thead>\n",
       "    <tr style=\"text-align: right;\">\n",
       "      <th></th>\n",
       "      <th>close</th>\n",
       "      <th>Prediction</th>\n",
       "    </tr>\n",
       "    <tr>\n",
       "      <th>timestamp</th>\n",
       "      <th></th>\n",
       "      <th></th>\n",
       "    </tr>\n",
       "  </thead>\n",
       "  <tbody>\n",
       "    <tr>\n",
       "      <th>2017-01-02 09:15:00+05:30</th>\n",
       "      <td>451.20</td>\n",
       "      <td>445.8</td>\n",
       "    </tr>\n",
       "    <tr>\n",
       "      <th>2017-01-02 09:16:00+05:30</th>\n",
       "      <td>450.80</td>\n",
       "      <td>446.0</td>\n",
       "    </tr>\n",
       "    <tr>\n",
       "      <th>2017-01-02 09:17:00+05:30</th>\n",
       "      <td>449.30</td>\n",
       "      <td>446.3</td>\n",
       "    </tr>\n",
       "    <tr>\n",
       "      <th>2017-01-02 09:18:00+05:30</th>\n",
       "      <td>449.75</td>\n",
       "      <td>446.1</td>\n",
       "    </tr>\n",
       "    <tr>\n",
       "      <th>2017-01-02 09:19:00+05:30</th>\n",
       "      <td>449.80</td>\n",
       "      <td>445.8</td>\n",
       "    </tr>\n",
       "  </tbody>\n",
       "</table>\n",
       "</div>"
      ],
      "text/plain": [
       "                            close  Prediction\n",
       "timestamp                                    \n",
       "2017-01-02 09:15:00+05:30  451.20       445.8\n",
       "2017-01-02 09:16:00+05:30  450.80       446.0\n",
       "2017-01-02 09:17:00+05:30  449.30       446.3\n",
       "2017-01-02 09:18:00+05:30  449.75       446.1\n",
       "2017-01-02 09:19:00+05:30  449.80       445.8"
      ]
     },
     "execution_count": 54,
     "metadata": {},
     "output_type": "execute_result"
    }
   ],
   "source": [
    "forecast_out = 30\n",
    "\n",
    "data['Prediction'] = data[['close']].shift(-forecast_out)\n",
    "data.head()"
   ]
  },
  {
   "cell_type": "markdown",
   "metadata": {},
   "source": [
    "##### Dropping Nan Values"
   ]
  },
  {
   "cell_type": "code",
   "execution_count": 55,
   "metadata": {
    "colab": {
     "base_uri": "https://localhost:8080/",
     "height": 235
    },
    "colab_type": "code",
    "id": "1Revliz12hiJ",
    "outputId": "d5f54307-0009-4f6d-cdbd-2d4ce3aa1455"
   },
   "outputs": [
    {
     "data": {
      "text/html": [
       "<div>\n",
       "<style scoped>\n",
       "    .dataframe tbody tr th:only-of-type {\n",
       "        vertical-align: middle;\n",
       "    }\n",
       "\n",
       "    .dataframe tbody tr th {\n",
       "        vertical-align: top;\n",
       "    }\n",
       "\n",
       "    .dataframe thead th {\n",
       "        text-align: right;\n",
       "    }\n",
       "</style>\n",
       "<table border=\"1\" class=\"dataframe\">\n",
       "  <thead>\n",
       "    <tr style=\"text-align: right;\">\n",
       "      <th></th>\n",
       "      <th>close</th>\n",
       "      <th>Prediction</th>\n",
       "    </tr>\n",
       "    <tr>\n",
       "      <th>timestamp</th>\n",
       "      <th></th>\n",
       "      <th></th>\n",
       "    </tr>\n",
       "  </thead>\n",
       "  <tbody>\n",
       "    <tr>\n",
       "      <th>2020-03-23 14:55:00+05:30</th>\n",
       "      <td>311.05</td>\n",
       "      <td>309.90</td>\n",
       "    </tr>\n",
       "    <tr>\n",
       "      <th>2020-03-23 14:56:00+05:30</th>\n",
       "      <td>310.15</td>\n",
       "      <td>312.00</td>\n",
       "    </tr>\n",
       "    <tr>\n",
       "      <th>2020-03-23 14:57:00+05:30</th>\n",
       "      <td>311.15</td>\n",
       "      <td>310.40</td>\n",
       "    </tr>\n",
       "    <tr>\n",
       "      <th>2020-03-23 14:58:00+05:30</th>\n",
       "      <td>312.65</td>\n",
       "      <td>309.25</td>\n",
       "    </tr>\n",
       "    <tr>\n",
       "      <th>2020-03-23 14:59:00+05:30</th>\n",
       "      <td>312.80</td>\n",
       "      <td>310.00</td>\n",
       "    </tr>\n",
       "  </tbody>\n",
       "</table>\n",
       "</div>"
      ],
      "text/plain": [
       "                            close  Prediction\n",
       "timestamp                                    \n",
       "2020-03-23 14:55:00+05:30  311.05      309.90\n",
       "2020-03-23 14:56:00+05:30  310.15      312.00\n",
       "2020-03-23 14:57:00+05:30  311.15      310.40\n",
       "2020-03-23 14:58:00+05:30  312.65      309.25\n",
       "2020-03-23 14:59:00+05:30  312.80      310.00"
      ]
     },
     "execution_count": 55,
     "metadata": {},
     "output_type": "execute_result"
    }
   ],
   "source": [
    "data.dropna(inplace=True)\n",
    "data.tail()"
   ]
  },
  {
   "cell_type": "markdown",
   "metadata": {},
   "source": [
    "#### Creating Feature Array"
   ]
  },
  {
   "cell_type": "code",
   "execution_count": 56,
   "metadata": {
    "colab": {},
    "colab_type": "code",
    "id": "zYYTcaUU2hiP"
   },
   "outputs": [],
   "source": [
    "X = np.array(data.drop(['Prediction'], 1))"
   ]
  },
  {
   "cell_type": "code",
   "execution_count": 57,
   "metadata": {
    "colab": {},
    "colab_type": "code",
    "id": "A1twCWvg2hiW"
   },
   "outputs": [],
   "source": [
    "X = X[:-forecast_out]"
   ]
  },
  {
   "cell_type": "markdown",
   "metadata": {},
   "source": [
    "#### Creating Label Array"
   ]
  },
  {
   "cell_type": "code",
   "execution_count": 58,
   "metadata": {
    "colab": {},
    "colab_type": "code",
    "id": "9RyAMvEW2hij"
   },
   "outputs": [],
   "source": [
    "Y = np.array(data['Prediction'])"
   ]
  },
  {
   "cell_type": "code",
   "execution_count": 59,
   "metadata": {
    "colab": {},
    "colab_type": "code",
    "id": "NYS4qhVk2hin"
   },
   "outputs": [],
   "source": [
    "Y = Y[:-forecast_out]"
   ]
  },
  {
   "cell_type": "markdown",
   "metadata": {},
   "source": [
    "#### Splitting Train and Test Data"
   ]
  },
  {
   "cell_type": "code",
   "execution_count": 60,
   "metadata": {
    "colab": {},
    "colab_type": "code",
    "id": "cbQrz78p2hi3"
   },
   "outputs": [],
   "source": [
    "X_train, X_test, Y_train, Y_test = train_test_split(X, Y, test_size=0.2)"
   ]
  },
  {
   "cell_type": "markdown",
   "metadata": {},
   "source": [
    "#### Fitting Linear Regression"
   ]
  },
  {
   "cell_type": "code",
   "execution_count": 61,
   "metadata": {
    "colab": {
     "base_uri": "https://localhost:8080/",
     "height": 34
    },
    "colab_type": "code",
    "id": "dHjzMmRe2hi_",
    "outputId": "24326a45-5973-4725-86dd-f6309c36b646"
   },
   "outputs": [
    {
     "data": {
      "text/plain": [
       "LinearRegression(copy_X=True, fit_intercept=True, n_jobs=None, normalize=False)"
      ]
     },
     "execution_count": 61,
     "metadata": {},
     "output_type": "execute_result"
    }
   ],
   "source": [
    "from sklearn.linear_model import LinearRegression\n",
    "lr = LinearRegression()\n",
    "lr.fit(X_train, Y_train)"
   ]
  },
  {
   "cell_type": "markdown",
   "metadata": {},
   "source": [
    "#### Confidence Score of LR Prediction on Test Data"
   ]
  },
  {
   "cell_type": "code",
   "execution_count": 62,
   "metadata": {
    "colab": {
     "base_uri": "https://localhost:8080/",
     "height": 34
    },
    "colab_type": "code",
    "id": "4QV__Ph92hjG",
    "outputId": "598633b9-9a27-457b-9ef6-e53937cf685e"
   },
   "outputs": [
    {
     "name": "stdout",
     "output_type": "stream",
     "text": [
      "LR Confidence Score:  0.9990228399404162\n"
     ]
    }
   ],
   "source": [
    "lr_confidence = lr.score(X_test, Y_test)\n",
    "print(\"LR Confidence Score: \", lr_confidence)"
   ]
  },
  {
   "cell_type": "markdown",
   "metadata": {},
   "source": [
    "#### LR Prediction"
   ]
  },
  {
   "cell_type": "code",
   "execution_count": 63,
   "metadata": {
    "colab": {},
    "colab_type": "code",
    "id": "sHl44Cif2hjJ"
   },
   "outputs": [],
   "source": [
    "X_forecast = np.array(data.drop(['Prediction'], 1))[-forecast_out:]\n",
    "lr_prediction = lr.predict(X_forecast)"
   ]
  },
  {
   "cell_type": "code",
   "execution_count": 64,
   "metadata": {
    "colab": {
     "base_uri": "https://localhost:8080/",
     "height": 235
    },
    "colab_type": "code",
    "id": "7fW2CayK2hjO",
    "outputId": "3e6a72c1-a2a2-4cfa-85ad-28bd99fcb1c6"
   },
   "outputs": [
    {
     "data": {
      "text/html": [
       "<div>\n",
       "<style scoped>\n",
       "    .dataframe tbody tr th:only-of-type {\n",
       "        vertical-align: middle;\n",
       "    }\n",
       "\n",
       "    .dataframe tbody tr th {\n",
       "        vertical-align: top;\n",
       "    }\n",
       "\n",
       "    .dataframe thead th {\n",
       "        text-align: right;\n",
       "    }\n",
       "</style>\n",
       "<table border=\"1\" class=\"dataframe\">\n",
       "  <thead>\n",
       "    <tr style=\"text-align: right;\">\n",
       "      <th></th>\n",
       "      <th>close</th>\n",
       "      <th>LR Prediction</th>\n",
       "    </tr>\n",
       "    <tr>\n",
       "      <th>timestamp</th>\n",
       "      <th></th>\n",
       "      <th></th>\n",
       "    </tr>\n",
       "  </thead>\n",
       "  <tbody>\n",
       "    <tr>\n",
       "      <th>2020-03-23 14:30:00+05:30</th>\n",
       "      <td>320.25</td>\n",
       "      <td>320.306987</td>\n",
       "    </tr>\n",
       "    <tr>\n",
       "      <th>2020-03-23 14:31:00+05:30</th>\n",
       "      <td>319.85</td>\n",
       "      <td>319.907083</td>\n",
       "    </tr>\n",
       "    <tr>\n",
       "      <th>2020-03-23 14:32:00+05:30</th>\n",
       "      <td>314.55</td>\n",
       "      <td>314.608354</td>\n",
       "    </tr>\n",
       "    <tr>\n",
       "      <th>2020-03-23 14:33:00+05:30</th>\n",
       "      <td>315.05</td>\n",
       "      <td>315.108235</td>\n",
       "    </tr>\n",
       "    <tr>\n",
       "      <th>2020-03-23 14:34:00+05:30</th>\n",
       "      <td>315.70</td>\n",
       "      <td>315.758079</td>\n",
       "    </tr>\n",
       "  </tbody>\n",
       "</table>\n",
       "</div>"
      ],
      "text/plain": [
       "                            close  LR Prediction\n",
       "timestamp                                       \n",
       "2020-03-23 14:30:00+05:30  320.25     320.306987\n",
       "2020-03-23 14:31:00+05:30  319.85     319.907083\n",
       "2020-03-23 14:32:00+05:30  314.55     314.608354\n",
       "2020-03-23 14:33:00+05:30  315.05     315.108235\n",
       "2020-03-23 14:34:00+05:30  315.70     315.758079"
      ]
     },
     "execution_count": 64,
     "metadata": {},
     "output_type": "execute_result"
    }
   ],
   "source": [
    "data1 = pd.DataFrame(data['close'][-forecast_out:])\n",
    "data1['LR Prediction'] = lr_prediction\n",
    "data1.head()"
   ]
  },
  {
   "cell_type": "code",
   "execution_count": 98,
   "metadata": {
    "colab": {
     "base_uri": "https://localhost:8080/",
     "height": 282
    },
    "colab_type": "code",
    "id": "_VKhybkb2hjS",
    "outputId": "af3b79dd-b080-4a18-db72-1b6b8d103866"
   },
   "outputs": [
    {
     "data": {
      "text/plain": [
       "<matplotlib.legend.Legend at 0x29186d0df48>"
      ]
     },
     "execution_count": 98,
     "metadata": {},
     "output_type": "execute_result"
    },
    {
     "data": {
      "image/png": "[encoded data removed]",
      "text/plain": [
       "<Figure size 576x288 with 1 Axes>"
      ]
     },
     "metadata": {
      "needs_background": "light"
     },
     "output_type": "display_data"
    }
   ],
   "source": [
    "plt.figure(figsize=(8, 4))\n",
    "plt.plot(data1['close'], label='Closing Price')\n",
    "plt.plot(data1['LR Prediction'], label='LR Prediction');\n",
    "plt.legend()"
   ]
  },
  {
   "cell_type": "code",
   "execution_count": 66,
   "metadata": {},
   "outputs": [],
   "source": [
    "Y_true = data[['close']][-forecast_out:]\n",
    "Y_pred = lr_prediction"
   ]
  },
  {
   "cell_type": "code",
   "execution_count": 67,
   "metadata": {},
   "outputs": [
    {
     "data": {
      "text/plain": [
       "0.05863015364824654"
      ]
     },
     "execution_count": 67,
     "metadata": {},
     "output_type": "execute_result"
    }
   ],
   "source": [
    "from sklearn.metrics import mean_squared_error, mean_absolute_error\n",
    "mean_squared_error(Y_true, Y_pred, squared=False)"
   ]
  },
  {
   "cell_type": "code",
   "execution_count": 85,
   "metadata": {},
   "outputs": [
    {
     "data": {
      "text/plain": [
       "0.05862753114949252"
      ]
     },
     "execution_count": 85,
     "metadata": {},
     "output_type": "execute_result"
    }
   ],
   "source": [
    "mean_absolute_error(Y_true, Y_pred)"
   ]
  },
  {
   "cell_type": "markdown",
   "metadata": {},
   "source": [
    "### Implementing Linear SVR"
   ]
  },
  {
   "cell_type": "code",
   "execution_count": 68,
   "metadata": {},
   "outputs": [
    {
     "data": {
      "text/plain": [
       "Pipeline(memory=None,\n",
       "         steps=[('standardscaler',\n",
       "                 StandardScaler(copy=True, with_mean=True, with_std=True)),\n",
       "                ('linearsvr',\n",
       "                 LinearSVR(C=1.0, dual=True, epsilon=0.0, fit_intercept=True,\n",
       "                           intercept_scaling=1.0, loss='epsilon_insensitive',\n",
       "                           max_iter=1000, random_state=0, tol=1e-05,\n",
       "                           verbose=0))],\n",
       "         verbose=False)"
      ]
     },
     "execution_count": 68,
     "metadata": {},
     "output_type": "execute_result"
    }
   ],
   "source": [
    "linear_svr = make_pipeline(StandardScaler(), LinearSVR(random_state=0, tol=1e-5))\n",
    "linear_svr.fit(X_train, Y_train)"
   ]
  },
  {
   "cell_type": "code",
   "execution_count": 69,
   "metadata": {},
   "outputs": [
    {
     "data": {
      "text/plain": [
       "0.9990225087029433"
      ]
     },
     "execution_count": 69,
     "metadata": {},
     "output_type": "execute_result"
    }
   ],
   "source": [
    "linear_svr_cscore = linear_svr.score(X_test, Y_test)\n",
    "linear_svr_cscore"
   ]
  },
  {
   "cell_type": "code",
   "execution_count": 100,
   "metadata": {},
   "outputs": [],
   "source": [
    "X_forecast = np.array(data.drop(['Prediction'], 1))[-forecast_out:]\n",
    "lsvr_prediction = linear_svr.predict(X_forecast)"
   ]
  },
  {
   "cell_type": "code",
   "execution_count": 101,
   "metadata": {},
   "outputs": [
    {
     "data": {
      "text/html": [
       "<div>\n",
       "<style scoped>\n",
       "    .dataframe tbody tr th:only-of-type {\n",
       "        vertical-align: middle;\n",
       "    }\n",
       "\n",
       "    .dataframe tbody tr th {\n",
       "        vertical-align: top;\n",
       "    }\n",
       "\n",
       "    .dataframe thead th {\n",
       "        text-align: right;\n",
       "    }\n",
       "</style>\n",
       "<table border=\"1\" class=\"dataframe\">\n",
       "  <thead>\n",
       "    <tr style=\"text-align: right;\">\n",
       "      <th></th>\n",
       "      <th>close</th>\n",
       "      <th>Linear SVR Prediction</th>\n",
       "    </tr>\n",
       "    <tr>\n",
       "      <th>timestamp</th>\n",
       "      <th></th>\n",
       "      <th></th>\n",
       "    </tr>\n",
       "  </thead>\n",
       "  <tbody>\n",
       "    <tr>\n",
       "      <th>2020-03-23 14:30:00+05:30</th>\n",
       "      <td>320.25</td>\n",
       "      <td>320.237606</td>\n",
       "    </tr>\n",
       "    <tr>\n",
       "      <th>2020-03-23 14:31:00+05:30</th>\n",
       "      <td>319.85</td>\n",
       "      <td>319.837685</td>\n",
       "    </tr>\n",
       "    <tr>\n",
       "      <th>2020-03-23 14:32:00+05:30</th>\n",
       "      <td>314.55</td>\n",
       "      <td>314.538736</td>\n",
       "    </tr>\n",
       "    <tr>\n",
       "      <th>2020-03-23 14:33:00+05:30</th>\n",
       "      <td>315.05</td>\n",
       "      <td>315.038637</td>\n",
       "    </tr>\n",
       "    <tr>\n",
       "      <th>2020-03-23 14:34:00+05:30</th>\n",
       "      <td>315.70</td>\n",
       "      <td>315.688508</td>\n",
       "    </tr>\n",
       "  </tbody>\n",
       "</table>\n",
       "</div>"
      ],
      "text/plain": [
       "                            close  Linear SVR Prediction\n",
       "timestamp                                               \n",
       "2020-03-23 14:30:00+05:30  320.25             320.237606\n",
       "2020-03-23 14:31:00+05:30  319.85             319.837685\n",
       "2020-03-23 14:32:00+05:30  314.55             314.538736\n",
       "2020-03-23 14:33:00+05:30  315.05             315.038637\n",
       "2020-03-23 14:34:00+05:30  315.70             315.688508"
      ]
     },
     "execution_count": 101,
     "metadata": {},
     "output_type": "execute_result"
    }
   ],
   "source": [
    "data7 = pd.DataFrame(data['close'][-forecast_out:])\n",
    "data7['Linear SVR Prediction'] = lsvr_prediction\n",
    "data7.head()"
   ]
  },
  {
   "cell_type": "code",
   "execution_count": 102,
   "metadata": {},
   "outputs": [
    {
     "data": {
      "image/png": "[encoded data removed]",
      "text/plain": [
       "<Figure size 576x288 with 1 Axes>"
      ]
     },
     "metadata": {
      "needs_background": "light"
     },
     "output_type": "display_data"
    }
   ],
   "source": [
    "plt.figure(figsize=(8, 4))\n",
    "plt.plot(data7['close'], label='Closing Price')\n",
    "plt.plot(data7['Linear SVR Prediction'], label='Linear SVR Prediction');\n",
    "plt.legend();"
   ]
  },
  {
   "cell_type": "code",
   "execution_count": 103,
   "metadata": {},
   "outputs": [],
   "source": [
    "Y_pred5 = lsvr_prediction"
   ]
  },
  {
   "cell_type": "code",
   "execution_count": 104,
   "metadata": {},
   "outputs": [
    {
     "data": {
      "text/plain": [
       "0.011048251300819498"
      ]
     },
     "execution_count": 104,
     "metadata": {},
     "output_type": "execute_result"
    }
   ],
   "source": [
    "mean_squared_error(Y_true, Y_pred5, squared=False)"
   ]
  },
  {
   "cell_type": "code",
   "execution_count": 105,
   "metadata": {},
   "outputs": [
    {
     "data": {
      "text/plain": [
       "0.011038746191707105"
      ]
     },
     "execution_count": 105,
     "metadata": {},
     "output_type": "execute_result"
    }
   ],
   "source": [
    "mean_absolute_error(Y_true, Y_pred5)"
   ]
  },
  {
   "cell_type": "markdown",
   "metadata": {},
   "source": [
    "### SGD Regression"
   ]
  },
  {
   "cell_type": "code",
   "execution_count": 88,
   "metadata": {},
   "outputs": [
    {
     "data": {
      "text/plain": [
       "Pipeline(memory=None,\n",
       "         steps=[('standardscaler',\n",
       "                 StandardScaler(copy=True, with_mean=True, with_std=True)),\n",
       "                ('sgdregressor',\n",
       "                 SGDRegressor(alpha=0.0001, average=False, early_stopping=False,\n",
       "                              epsilon=0.1, eta0=0.01, fit_intercept=True,\n",
       "                              l1_ratio=0.15, learning_rate='invscaling',\n",
       "                              loss='squared_loss', max_iter=1000,\n",
       "                              n_iter_no_change=5, penalty='l2', power_t=0.25,\n",
       "                              random_state=None, shuffle=True, tol=0.001,\n",
       "                              validation_fraction=0.1, verbose=0,\n",
       "                              warm_start=False))],\n",
       "         verbose=False)"
      ]
     },
     "execution_count": 88,
     "metadata": {},
     "output_type": "execute_result"
    }
   ],
   "source": [
    "sgd_reg = make_pipeline(StandardScaler(), SGDRegressor(max_iter=1000, tol=1e-3))\n",
    "sgd_reg.fit(X_train, Y_train)a"
   ]
  },
  {
   "cell_type": "code",
   "execution_count": 89,
   "metadata": {},
   "outputs": [
    {
     "name": "stdout",
     "output_type": "stream",
     "text": [
      "SGD Confidence Score:  0.9990228161166367\n"
     ]
    }
   ],
   "source": [
    "sgd_confidence = sgd_reg.score(X_test, Y_test)\n",
    "print(\"SGD Confidence Score: \", sgd_confidence)"
   ]
  },
  {
   "cell_type": "code",
   "execution_count": 90,
   "metadata": {},
   "outputs": [],
   "source": [
    "sgd_prediction = sgd_reg.predict(X_forecast)"
   ]
  },
  {
   "cell_type": "code",
   "execution_count": 92,
   "metadata": {},
   "outputs": [],
   "source": [
    "data3  = pd.DataFrame(data['close'][-forecast_out:])\n",
    "data3['SGD Regression Prediction'] = sgd_prediction"
   ]
  },
  {
   "cell_type": "code",
   "execution_count": 93,
   "metadata": {},
   "outputs": [
    {
     "data": {
      "image/png": "[encoded data removed]",
      "text/plain": [
       "<Figure size 576x288 with 1 Axes>"
      ]
     },
     "metadata": {
      "needs_background": "light"
     },
     "output_type": "display_data"
    }
   ],
   "source": [
    "plt.figure(figsize=(8, 4))\n",
    "plt.plot(data3['close'], label='Closing Price')\n",
    "plt.plot(data3['SGD Regression Prediction'], label='SGD Regression Prediction');\n",
    "plt.legend();"
   ]
  },
  {
   "cell_type": "code",
   "execution_count": 94,
   "metadata": {},
   "outputs": [],
   "source": [
    "Y_pred = sgd_prediction"
   ]
  },
  {
   "cell_type": "code",
   "execution_count": 95,
   "metadata": {},
   "outputs": [
    {
     "data": {
      "text/plain": [
       "0.11583746213519214"
      ]
     },
     "execution_count": 95,
     "metadata": {},
     "output_type": "execute_result"
    }
   ],
   "source": [
    "mean_squared_error(Y_true, Y_pred, squared=False)"
   ]
  },
  {
   "cell_type": "code",
   "execution_count": 96,
   "metadata": {},
   "outputs": [
    {
     "data": {
      "text/plain": [
       "0.11583283655607299"
      ]
     },
     "execution_count": 96,
     "metadata": {},
     "output_type": "execute_result"
    }
   ],
   "source": [
    "mean_absolute_error(Y_true, Y_pred)"
   ]
  },
  {
   "cell_type": "code",
   "execution_count": null,
   "metadata": {},
   "outputs": [],
   "source": []
  }
 ],
 "metadata": {
  "accelerator": "GPU",
  "colab": {
   "name": "AXIS Bank NSE Prediction.ipynb",
   "provenance": []
  },
  "kernelspec": {
   "display_name": "Python 3",
   "language": "python",
   "name": "python3"
  },
  "language_info": {
   "codemirror_mode": {
    "name": "ipython",
    "version": 3
   },
   "file_extension": ".py",
   "mimetype": "text/x-python",
   "name": "python",
   "nbconvert_exporter": "python",
   "pygments_lexer": "ipython3",
   "version": "3.7.6"
  }
 },
 "nbformat": 4,
 "nbformat_minor": 4
}
